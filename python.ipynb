{
  "nbformat": 4,
  "nbformat_minor": 0,
  "metadata": {
    "colab": {
      "provenance": [],
      "authorship_tag": "ABX9TyMMINT9pWyfqYVfEu6nC00E",
      "include_colab_link": true
    },
    "kernelspec": {
      "name": "python3",
      "display_name": "Python 3"
    },
    "language_info": {
      "name": "python"
    }
  },
  "cells": [
    {
      "cell_type": "markdown",
      "metadata": {
        "id": "view-in-github",
        "colab_type": "text"
      },
      "source": [
        "<a href=\"https://colab.research.google.com/github/siyan77/Python_basics/blob/main/python.ipynb\" target=\"_parent\"><img src=\"https://colab.research.google.com/assets/colab-badge.svg\" alt=\"Open In Colab\"/></a>"
      ]
    },
    {
      "cell_type": "code",
      "execution_count": null,
      "metadata": {
        "colab": {
          "base_uri": "https://localhost:8080/"
        },
        "id": "M21uipgW245L",
        "outputId": "6ee82c3f-d578-4c2b-b4e2-3f9760fc267b"
      },
      "outputs": [
        {
          "output_type": "stream",
          "name": "stdout",
          "text": [
            "56\n"
          ]
        }
      ],
      "source": [
        "a=8\n",
        "b=7\n",
        "print(a*b)"
      ]
    },
    {
      "cell_type": "code",
      "source": [],
      "metadata": {
        "id": "cfdOEbASoOyZ"
      },
      "execution_count": null,
      "outputs": []
    },
    {
      "source": [
        "# Import the necessary modules.\n",
        "import pandas as pd\n",
        "\n",
        "# Create a dictionary of student data.\n",
        "students = {\n",
        "    'Name': ['Alice', 'Bob', 'Carol', 'Dave', 'Eve'],\n",
        "    'Math': [90, 85, 95, 75, 80],\n",
        "    'Science': [85, 90, 80, 95, 75],\n",
        "    'English': [95, 80, 90, 85, 90]\n",
        "}\n",
        "\n",
        "# Create a Pandas DataFrame from the dictionary.\n",
        "df = pd.DataFrame(students)\n",
        "\n",
        "# Calculate the total marks for each student.\n",
        "df['Total'] = df['Math'] + df['Science'] + df['English']\n",
        "\n",
        "# Calculate the percentage for each student.\n",
        "df['Percentage'] = df['Total'] / 300 * 100\n",
        "\n",
        "# Calculate the grade for each student.\n",
        "df['Grade'] = ['A' if p >= 90 else 'B' if p >= 80 else 'C' if p >= 70 else 'D' for p in df['Percentage']]\n",
        "\n",
        "# Print the mark sheet.\n",
        "print(df)"
      ],
      "cell_type": "code",
      "metadata": {
        "colab": {
          "base_uri": "https://localhost:8080/"
        },
        "id": "hI3g8_1G4bjJ",
        "outputId": "0dab7dc4-342a-423a-b8fb-78fa1b270fb4"
      },
      "execution_count": null,
      "outputs": [
        {
          "output_type": "stream",
          "name": "stdout",
          "text": [
            "    Name  Math  Science  English  Total  Percentage Grade\n",
            "0  Alice    90       85       95    270   90.000000     A\n",
            "1    Bob    85       90       80    255   85.000000     B\n",
            "2  Carol    95       80       90    265   88.333333     B\n",
            "3   Dave    75       95       85    255   85.000000     B\n",
            "4    Eve    80       75       90    245   81.666667     B\n"
          ]
        }
      ]
    },
    {
      "cell_type": "code",
      "source": [
        "a=int(input())\n",
        "b=int(input(0))\n",
        "print(a+b)"
      ],
      "metadata": {
        "colab": {
          "base_uri": "https://localhost:8080/"
        },
        "id": "Y0xZSKZQ3BRO",
        "outputId": "fb014ba6-150c-4161-dbc8-455a97fd81d1"
      },
      "execution_count": null,
      "outputs": [
        {
          "output_type": "stream",
          "name": "stdout",
          "text": [
            "1\n",
            "02\n",
            "3\n"
          ]
        }
      ]
    },
    {
      "cell_type": "code",
      "source": [
        "a=int(input(\"enter the first number:\"))\n",
        "b=int(input(\"enter the second number:\"))\n",
        "if a<b:\n",
        "  print (\"first number is less than second\")\n",
        "elif a>b:\n",
        "    print(\"first number greater than second\")\n",
        "else:\n",
        "    print(f\"first number is equal to second\")\n"
      ],
      "metadata": {
        "colab": {
          "base_uri": "https://localhost:8080/"
        },
        "id": "5NT8vkwe506n",
        "outputId": "884ce259-74b8-4c1b-a685-f05fb4dec046"
      },
      "execution_count": null,
      "outputs": [
        {
          "output_type": "stream",
          "name": "stdout",
          "text": [
            "enter the first number:3\n",
            "enter the second number:3\n",
            "first number is equal to second\n"
          ]
        }
      ]
    },
    {
      "cell_type": "code",
      "source": [
        "number=int(input())\n",
        "\n",
        "print(\"multiplication table for\",number,\";\")\n",
        "for i in range(1,11):\n",
        "  result = number * i\n",
        "  print(f\"{number} * {i}= {result}\")\n",
        "\n"
      ],
      "metadata": {
        "colab": {
          "base_uri": "https://localhost:8080/"
        },
        "id": "8XP_DyzS7dGX",
        "outputId": "d88e8b41-4738-4b30-bcea-64342e1546c2"
      },
      "execution_count": null,
      "outputs": [
        {
          "output_type": "stream",
          "name": "stdout",
          "text": [
            "4\n",
            "multiplication table for 4 ;\n",
            "4 * 1= 4\n",
            "4 * 2= 8\n",
            "4 * 3= 12\n",
            "4 * 4= 16\n",
            "4 * 5= 20\n",
            "4 * 6= 24\n",
            "4 * 7= 28\n",
            "4 * 8= 32\n",
            "4 * 9= 36\n",
            "4 * 10= 40\n"
          ]
        }
      ]
    },
    {
      "cell_type": "code",
      "source": [
        "def addition(num1,num2):\n",
        "  print(f\"sum of{num1},{num2}=\",num1+num2)\n",
        "\n",
        "num1=int(input())\n",
        "num2=int(input())\n",
        "\n",
        "addition(num1,num2)"
      ],
      "metadata": {
        "id": "56hgPRGGANly",
        "colab": {
          "base_uri": "https://localhost:8080/"
        },
        "outputId": "627a6f3d-699f-46a7-d277-6e294f274995"
      },
      "execution_count": null,
      "outputs": [
        {
          "output_type": "stream",
          "name": "stdout",
          "text": [
            "1\n",
            "2\n",
            "sum of1,2= 3\n"
          ]
        }
      ]
    },
    {
      "cell_type": "code",
      "source": [],
      "metadata": {
        "id": "FbPe2v6zTHSH"
      },
      "execution_count": null,
      "outputs": []
    },
    {
      "cell_type": "code",
      "source": [
        "def factorial(n):\n",
        "  if n==0:\n",
        "    return 1;\n",
        "\n",
        "  result = 1\n",
        "  for i in range(1, n+1):\n",
        "    result *=i\n",
        "  return result\n",
        "\n",
        "factorial(5)"
      ],
      "metadata": {
        "id": "4Boz2OtxUKFx",
        "colab": {
          "base_uri": "https://localhost:8080/"
        },
        "outputId": "c7fe3e7b-4564-44b9-fbc9-a17ef314becb"
      },
      "execution_count": null,
      "outputs": [
        {
          "output_type": "execute_result",
          "data": {
            "text/plain": [
              "120"
            ]
          },
          "metadata": {},
          "execution_count": 44
        }
      ]
    },
    {
      "cell_type": "code",
      "source": [
        "def substraction(num1,num2):\n",
        "  print(f\"difference of{num1},{num2}=\",num1-num2)\n",
        "\n",
        "\n",
        "\n",
        "num1=int(input())\n",
        "num2=int(input())\n",
        "\n",
        "substraction (num1,num2)"
      ],
      "metadata": {
        "colab": {
          "base_uri": "https://localhost:8080/"
        },
        "id": "qPysKtSXUaE6",
        "outputId": "148017d5-7bc5-4075-ae2c-434be3f8e267"
      },
      "execution_count": null,
      "outputs": [
        {
          "output_type": "stream",
          "name": "stdout",
          "text": [
            "8\n",
            "4\n",
            "difference of8,4= 4\n"
          ]
        }
      ]
    },
    {
      "cell_type": "code",
      "source": [
        "def factorial(n):\n",
        " if n==0:\n",
        "  return 1\n",
        " else:\n",
        "  return n * factorial(n-1)\n",
        "factorial(5)"
      ],
      "metadata": {
        "id": "-Bn-BBbUWnE0",
        "colab": {
          "base_uri": "https://localhost:8080/"
        },
        "outputId": "2b51a515-17c6-4eb6-96c7-3a0fb2935baf"
      },
      "execution_count": null,
      "outputs": [
        {
          "output_type": "execute_result",
          "data": {
            "text/plain": [
              "120"
            ]
          },
          "metadata": {},
          "execution_count": 61
        }
      ]
    },
    {
      "cell_type": "code",
      "source": [
        "def palindrome(word):\n",
        "  # covert the word to lowercase for case-insesitive comparison\n",
        "  word=word.lower()\n",
        "  reversed_word=word[::-1]\n",
        "  if word == reversed_word:\n",
        "    print(\"it is a palindrome\")\n",
        "  else:\n",
        "    print(\"it is not a palindrome\")\n",
        "\n",
        "palindrome(\"malayalam\")"
      ],
      "metadata": {
        "colab": {
          "base_uri": "https://localhost:8080/"
        },
        "id": "DyHoOaGHs-5G",
        "outputId": "7a41e811-dda0-417f-bff2-31cb24e73590"
      },
      "execution_count": null,
      "outputs": [
        {
          "output_type": "stream",
          "name": "stdout",
          "text": [
            "it is a palindrome\n"
          ]
        }
      ]
    },
    {
      "cell_type": "code",
      "source": [
        "f=open(\"text.txt\")\n",
        "print(f.read())\n"
      ],
      "metadata": {
        "colab": {
          "base_uri": "https://localhost:8080/"
        },
        "id": "3au8yJdivkFf",
        "outputId": "774ac5ec-2fc0-4808-801e-ae8b45d8621c"
      },
      "execution_count": null,
      "outputs": [
        {
          "output_type": "stream",
          "name": "stdout",
          "text": [
            "hello world\n",
            "\n",
            "good morning\n"
          ]
        }
      ]
    },
    {
      "cell_type": "code",
      "source": [],
      "metadata": {
        "id": "1QJ9FZyA40EZ"
      },
      "execution_count": null,
      "outputs": []
    }
  ]
}